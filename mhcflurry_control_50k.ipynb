{
  "cells": [
    {
      "cell_type": "markdown",
      "metadata": {
        "id": "view-in-github",
        "colab_type": "text"
      },
      "source": [
        "<a href=\"https://colab.research.google.com/github/alanraetz/signatureExomeScan/blob/main/mhcflurry_control_50k.ipynb\" target=\"_parent\"><img src=\"https://colab.research.google.com/assets/colab-badge.svg\" alt=\"Open In Colab\"/></a>"
      ]
    },
    {
      "cell_type": "code",
      "source": [
        "from google.colab import drive\n",
        "drive.mount('/content/drive')"
      ],
      "metadata": {
        "colab": {
          "base_uri": "https://localhost:8080/"
        },
        "id": "WpTw486kosc1",
        "outputId": "3881c7de-d91c-45a3-c5f7-b6693581f86b"
      },
      "execution_count": null,
      "outputs": [
        {
          "output_type": "stream",
          "name": "stdout",
          "text": [
            "Mounted at /content/drive\n"
          ]
        }
      ]
    },
    {
      "cell_type": "code",
      "execution_count": null,
      "metadata": {
        "colab": {
          "base_uri": "https://localhost:8080/"
        },
        "execution": {
          "iopub.execute_input": "2023-02-21T10:21:32.944349Z",
          "iopub.status.busy": "2023-02-21T10:21:32.943481Z",
          "iopub.status.idle": "2023-02-21T10:22:07.704896Z",
          "shell.execute_reply": "2023-02-21T10:22:07.704340Z",
          "shell.execute_reply.started": "2023-02-21T10:21:32.944278Z"
        },
        "id": "uUFQLxFgZTAO",
        "outputId": "596370e3-923a-461d-e814-e75ad4564242",
        "tags": []
      },
      "outputs": [
        {
          "output_type": "stream",
          "name": "stdout",
          "text": [
            "\u001b[?25l     \u001b[90m━━━━━━━━━━━━━━━━━━━━━━━━━━━━━━━━━━━━━━━━\u001b[0m \u001b[32m0.0/140.8 KB\u001b[0m \u001b[31m?\u001b[0m eta \u001b[36m-:--:--\u001b[0m\r\u001b[2K     \u001b[90m━━━━━━━━━━━━━━━━━━━━━━━━━━━━━━━━━━━━━━━\u001b[0m \u001b[32m140.8/140.8 KB\u001b[0m \u001b[31m4.4 MB/s\u001b[0m eta \u001b[36m0:00:00\u001b[0m\n",
            "\u001b[2K     \u001b[90m━━━━━━━━━━━━━━━━━━━━━━━━━━━━━━━━━━━━━━━━\u001b[0m \u001b[32m62.0/62.0 KB\u001b[0m \u001b[31m8.8 MB/s\u001b[0m eta \u001b[36m0:00:00\u001b[0m\n",
            "\u001b[?25h  Preparing metadata (setup.py) ... \u001b[?25l\u001b[?25hdone\n",
            "\u001b[2K     \u001b[90m━━━━━━━━━━━━━━━━━━━━━━━━━━━━━━━━━━━━━━\u001b[0m \u001b[32m103.7/103.7 KB\u001b[0m \u001b[31m10.4 MB/s\u001b[0m eta \u001b[36m0:00:00\u001b[0m\n",
            "\u001b[?25h  Preparing metadata (setup.py) ... \u001b[?25l\u001b[?25hdone\n",
            "\u001b[2K     \u001b[90m━━━━━━━━━━━━━━━━━━━━━━━━━━━━━━━━━━━━━━\u001b[0m \u001b[32m662.2/662.2 KB\u001b[0m \u001b[31m21.7 MB/s\u001b[0m eta \u001b[36m0:00:00\u001b[0m\n",
            "\u001b[?25h  Preparing metadata (setup.py) ... \u001b[?25l\u001b[?25hdone\n",
            "\u001b[2K     \u001b[90m━━━━━━━━━━━━━━━━━━━━━━━━━━━━━━━━━━━━━━\u001b[0m \u001b[32m135.5/135.5 KB\u001b[0m \u001b[31m17.8 MB/s\u001b[0m eta \u001b[36m0:00:00\u001b[0m\n",
            "\u001b[?25h  Building wheel for np-utils (setup.py) ... \u001b[?25l\u001b[?25hdone\n",
            "  Building wheel for serializable (setup.py) ... \u001b[?25l\u001b[?25hdone\n",
            "  Building wheel for typechecks (setup.py) ... \u001b[?25l\u001b[?25hdone\n",
            "135MB [00:02, 50.9MB/s]               \n",
            "Extracting: 100% 62/62 [00:12<00:00,  4.85it/s]\n"
          ]
        }
      ],
      "source": [
        "# Install the package and download models\n",
        "\n",
        "!pip install -q mhcflurry\n",
        "!mhcflurry-downloads --quiet fetch models_class1_presentation\n",
        "# !pip install --upgrade gdown"
      ]
    },
    {
      "cell_type": "code",
      "execution_count": null,
      "metadata": {
        "execution": {
          "iopub.execute_input": "2023-02-21T10:22:07.706229Z",
          "iopub.status.busy": "2023-02-21T10:22:07.705998Z",
          "iopub.status.idle": "2023-02-21T10:22:07.709756Z",
          "shell.execute_reply": "2023-02-21T10:22:07.709067Z",
          "shell.execute_reply.started": "2023-02-21T10:22:07.706181Z"
        },
        "id": "na8FibimocZZ"
      },
      "outputs": [],
      "source": [
        "# !pip install --upgrade gdown\n",
        "\n",
        "#import gdown # UPDATE pip install --upgrade gdown TO AVOID ERRORS\n",
        "\n",
        "#url = \"https://drive.google.com/file/d/1OimTrvHb8LcfmE2Cu7XR62AxY69tmOh5\"\n",
        "\n",
        "#gdown \"1OimTrvHb8LcfmE2Cu7XR62AxY69tmOh5&confirm=t\"\n",
        "\n",
        "#url = 'https://drive.google.com/file/d/1p70UGFRwspmF4tvm1sHJsLiiJdfV9F3i/view?usp=share_link&confirm=t'\n",
        "#output = \"test_this.gz\"\n",
        "\n",
        "#gdown.download(url, output, quiet=False, fuzzy=True)\n"
      ]
    },
    {
      "cell_type": "code",
      "execution_count": null,
      "metadata": {
        "execution": {
          "iopub.execute_input": "2023-02-21T10:22:07.710963Z",
          "iopub.status.busy": "2023-02-21T10:22:07.710765Z",
          "iopub.status.idle": "2023-02-21T10:22:08.799983Z",
          "shell.execute_reply": "2023-02-21T10:22:08.799420Z",
          "shell.execute_reply.started": "2023-02-21T10:22:07.710944Z"
        },
        "id": "1sqAFdItWwd5",
        "tags": []
      },
      "outputs": [],
      "source": [
        "# Imports\n",
        "import mhcflurry\n",
        "\n",
        "# Quiet warnings\n",
        "import warnings\n",
        "warnings.filterwarnings('ignore')"
      ]
    },
    {
      "cell_type": "code",
      "execution_count": null,
      "metadata": {
        "colab": {
          "base_uri": "https://localhost:8080/"
        },
        "execution": {
          "iopub.execute_input": "2023-02-21T10:22:08.800871Z",
          "iopub.status.busy": "2023-02-21T10:22:08.800693Z",
          "iopub.status.idle": "2023-02-21T10:22:20.780597Z",
          "shell.execute_reply": "2023-02-21T10:22:20.780160Z",
          "shell.execute_reply.started": "2023-02-21T10:22:08.800856Z"
        },
        "id": "sHCsU4dNRGBk",
        "outputId": "1c47cf0c-cc95-49dd-ecba-1051fe3344a1",
        "tags": []
      },
      "outputs": [
        {
          "output_type": "stream",
          "name": "stdout",
          "text": [
            "Forcing tensorflow backend.\n"
          ]
        },
        {
          "output_type": "stream",
          "name": "stderr",
          "text": [
            "WARNING:tensorflow:From /usr/local/lib/python3.8/dist-packages/tensorflow/python/compat/v2_compat.py:107: disable_resource_variables (from tensorflow.python.ops.variable_scope) is deprecated and will be removed in a future version.\n",
            "Instructions for updating:\n",
            "non-resource variables are not supported in the long term\n",
            "WARNING:tensorflow:From /usr/local/lib/python3.8/dist-packages/mhcflurry/common.py:131: The name tf.keras.backend.set_session is deprecated. Please use tf.compat.v1.keras.backend.set_session instead.\n",
            "\n",
            "WARNING:tensorflow:From /usr/local/lib/python3.8/dist-packages/keras/initializers/initializers_v1.py:297: calling RandomUniform.__init__ (from tensorflow.python.ops.init_ops) with dtype is deprecated and will be removed in a future version.\n",
            "Instructions for updating:\n",
            "Call initializer instance with the dtype argument instead of passing it to the constructor\n"
          ]
        },
        {
          "output_type": "execute_result",
          "data": {
            "text/plain": [
              "<Class1PresentationPredictor at 0x7f10d889b370 [mhcflurry 2.0.6] generated on Thu Jun 11 13:37:18 2020>"
            ]
          },
          "metadata": {},
          "execution_count": 5
        }
      ],
      "source": [
        "# Load a predictor\n",
        "predictor = mhcflurry.Class1PresentationPredictor.load()\n",
        "predictor"
      ]
    },
    {
      "cell_type": "code",
      "execution_count": null,
      "metadata": {
        "execution": {
          "iopub.execute_input": "2023-02-21T10:22:20.782415Z",
          "iopub.status.busy": "2023-02-21T10:22:20.781675Z",
          "iopub.status.idle": "2023-02-21T10:22:20.785501Z",
          "shell.execute_reply": "2023-02-21T10:22:20.785045Z",
          "shell.execute_reply.started": "2023-02-21T10:22:20.782396Z"
        },
        "id": "zwPHH09RcgCt",
        "tags": []
      },
      "outputs": [],
      "source": [
        "# Define alleles for each sample\n",
        "alleles={\n",
        "    \"my-sample\": [ 'HLA-A*01:01',\n",
        "'HLA-A*02:01',\n",
        "'HLA-A*02:03',\n",
        "'HLA-A*02:06',\n",
        "'HLA-A*03:01',\n",
        "'HLA-A*11:01',\n",
        "'HLA-A*23:01',\n",
        "'HLA-A*24:02',\n",
        "'HLA-A*26:01',\n",
        "'HLA-A*30:01',\n",
        "'HLA-A*30:02',\n",
        "'HLA-A*31:01',\n",
        "'HLA-A*32:01',\n",
        "'HLA-A*33:01',\n",
        "'HLA-A*68:01',\n",
        "'HLA-A*68:02',\n",
        "'HLA-B*07:02',\n",
        "'HLA-B*08:01',\n",
        "'HLA-B*08:01',\n",
        "'HLA-B*15:01',\n",
        "'HLA-B*35:01',\n",
        "'HLA-B*40:01',\n",
        "'HLA-B*44:02',\n",
        "'HLA-B*44:03',\n",
        "'HLA-B*51:01',\n",
        "'HLA-B*53:01',\n",
        "'HLA-B*57:01',\n",
        "'HLA-B*58:01' ],\n",
        " # [\"A0201\", \"A0301\", \"B0702\", \"C0802\"],\n",
        "}"
      ]
    },
    {
      "cell_type": "code",
      "execution_count": null,
      "metadata": {
        "execution": {
          "iopub.execute_input": "2023-02-21T10:57:45.276164Z",
          "iopub.status.busy": "2023-02-21T10:57:45.275922Z"
        },
        "id": "tYRpxn5YRGBk",
        "tags": [],
        "colab": {
          "base_uri": "https://localhost:8080/"
        },
        "outputId": "1f23bb2f-c99c-4671-f736-5397419558da"
      },
      "outputs": [
        {
          "output_type": "stream",
          "name": "stdout",
          "text": [
            "processing control_50k_069.csv on 02/22/2023 06:30:49 PST\n",
            "Predicting processing.\n"
          ]
        },
        {
          "output_type": "stream",
          "name": "stderr",
          "text": [
            "100%|██████████| 55/55 [03:47<00:00,  4.14s/it]\n"
          ]
        },
        {
          "output_type": "stream",
          "name": "stdout",
          "text": [
            "Predicting affinities.\n"
          ]
        },
        {
          "output_type": "stream",
          "name": "stderr",
          "text": [
            "100%|██████████| 27/27 [18:11<00:00, 40.43s/it]\n"
          ]
        }
      ],
      "source": [
        "# import io\n",
        "import mhcflurry.fasta\n",
        "from datetime import datetime\n",
        "from pytz import timezone\n",
        "import pytz\n",
        "\n",
        "date_format='%m/%d/%Y %H:%M:%S %Z'\n",
        "\n",
        "#print('Current date & time is:', date.strftime(date_f:wqormat))\n",
        "\n",
        "for suffix in range(69,70):\n",
        "\n",
        "    padded_suffix = '{0:03d}'.format(suffix)\n",
        "    \n",
        "    # with io.open(\"file_\" + str(i) + \".dat\", 'w', encoding='utf-8') as f:\n",
        "    \n",
        "    srcFile = \"/content/drive/MyDrive/vaccinePeptideExomeScan/control_peptides/fixed2_control_50k_\" + str(suffix) + \".fasta\"\n",
        "    \n",
        "    #srcFile = \"/storage/control_50k/fixed2_control_50k_\" + str(suffix) + \".fasta\"\n",
        "        \n",
        "    peptides = mhcflurry.fasta.read_fasta_to_dataframe(srcFile).set_index(\"sequence_id\")\n",
        "      \n",
        "    resultFile = \"control_50k_\" + padded_suffix + \".csv\"\n",
        "    \n",
        "    driveResultFile = \"/content/drive/MyDrive/vaccinePeptideExomeScan/control_results/\" + resultFile\n",
        "    # driveResultFile = \"/storage/results/control/\" + resultFile\n",
        "    \n",
        "    dt_string = datetime.now(tz=pytz.utc).astimezone(timezone('US/Pacific')).strftime(date_format)\n",
        "\n",
        "    print(\"processing \" + resultFile + \" on \" + dt_string)\n",
        "\n",
        "\n",
        "    # Predict across protein sequences and return peptides with predicted affinity\n",
        "    # less than 100 nM.\n",
        "    results2 = predictor.predict_sequences(\n",
        "        sequences=peptides.sequence.to_dict(),\n",
        "        alleles=alleles,\n",
        "        result=\"filtered\",\n",
        "        comparison_quantity=\"affinity\",\n",
        "        filter_value=100)\n",
        "    \n",
        "    results2.to_csv(driveResultFile)\n",
        "    # files.download(results2.to_csv())\n"
      ]
    }
  ],
  "metadata": {
    "accelerator": "GPU",
    "colab": {
      "machine_shape": "hm",
      "provenance": [],
      "include_colab_link": true
    },
    "gpuClass": "premium",
    "kernelspec": {
      "display_name": "Python 3 (ipykernel)",
      "language": "python",
      "name": "python3"
    },
    "language_info": {
      "codemirror_mode": {
        "name": "ipython",
        "version": 3
      },
      "file_extension": ".py",
      "mimetype": "text/x-python",
      "name": "python",
      "nbconvert_exporter": "python",
      "pygments_lexer": "ipython3",
      "version": "3.9.13"
    }
  },
  "nbformat": 4,
  "nbformat_minor": 0
}