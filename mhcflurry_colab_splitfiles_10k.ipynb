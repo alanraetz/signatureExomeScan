{
  "cells": [
    {
      "cell_type": "markdown",
      "metadata": {
        "id": "view-in-github",
        "colab_type": "text"
      },
      "source": [
        "<a href=\"https://colab.research.google.com/github/alanraetz/signatureExomeScan/blob/main/mhcflurry_colab_splitfiles_10k.ipynb\" target=\"_parent\"><img src=\"https://colab.research.google.com/assets/colab-badge.svg\" alt=\"Open In Colab\"/></a>"
      ]
    },
    {
      "cell_type": "markdown",
      "source": [
        "# Setup"
      ],
      "metadata": {
        "id": "ZBP3mFgsZTxA"
      }
    },
    {
      "cell_type": "markdown",
      "source": [
        "This notebook demonstrates how to generate predictions using MHCflurry."
      ],
      "metadata": {
        "id": "c4ukEYkrco5H"
      }
    },
    {
      "cell_type": "code",
      "source": [
        "# Install the package and download models\n",
        "!pip install -q mhcflurry\n",
        "!mhcflurry-downloads --quiet fetch models_class1_presentation"
      ],
      "metadata": {
        "colab": {
          "base_uri": "https://localhost:8080/"
        },
        "id": "uUFQLxFgZTAO",
        "outputId": "b9f811b9-537f-4701-e568-16f7d66af0c0"
      },
      "execution_count": null,
      "outputs": [
        {
          "output_type": "stream",
          "name": "stdout",
          "text": [
            "****************************************\n",
            "The requested download 'models_class1_presentation' has already been downloaded. To re-download this data, first run: \n",
            "\trm -rf /root/.local/share/mhcflurry/4/2.0.0/models_class1_presentation/\n",
            "in a shell and then re-run this command.\n",
            "****************************************\n"
          ]
        }
      ]
    },
    {
      "cell_type": "code",
      "source": [
        "# Imports\n",
        "import mhcflurry\n",
        "from google.colab import files\n",
        "\n",
        "# Quiet warnings\n",
        "import warnings\n",
        "warnings.filterwarnings('ignore')"
      ],
      "metadata": {
        "id": "1sqAFdItWwd5"
      },
      "execution_count": null,
      "outputs": []
    },
    {
      "cell_type": "code",
      "execution_count": null,
      "metadata": {
        "colab": {
          "base_uri": "https://localhost:8080/"
        },
        "id": "sHCsU4dNRGBk",
        "outputId": "e8263ca0-c593-460b-f3da-aeebd19c4543"
      },
      "outputs": [
        {
          "output_type": "execute_result",
          "data": {
            "text/plain": [
              "<Class1PresentationPredictor at 0x7f73db2973a0 [mhcflurry 2.0.6] generated on Thu Jun 11 13:37:18 2020>"
            ]
          },
          "metadata": {},
          "execution_count": 11
        }
      ],
      "source": [
        "# Load a predictor\n",
        "predictor = mhcflurry.Class1PresentationPredictor.load()\n",
        "predictor"
      ]
    },
    {
      "cell_type": "code",
      "source": [
        "from google.colab import drive\n",
        "drive.mount('/content/drive')"
      ],
      "metadata": {
        "colab": {
          "base_uri": "https://localhost:8080/"
        },
        "id": "vrKa4jpkhJKZ",
        "outputId": "bb6a89d7-8467-4ce1-a6c1-3014ea712c3e"
      },
      "execution_count": null,
      "outputs": [
        {
          "output_type": "stream",
          "name": "stdout",
          "text": [
            "Mounted at /content/drive\n"
          ]
        }
      ]
    },
    {
      "cell_type": "code",
      "source": [
        "# Define alleles for each sample\n",
        "alleles={\n",
        "    \"my-sample\": [ 'HLA-A*01:01',\n",
        "'HLA-A*02:01',\n",
        "'HLA-A*02:03',\n",
        "'HLA-A*02:06',\n",
        "'HLA-A*03:01',\n",
        "'HLA-A*11:01',\n",
        "'HLA-A*23:01',\n",
        "'HLA-A*24:02',\n",
        "'HLA-A*26:01',\n",
        "'HLA-A*30:01',\n",
        "'HLA-A*30:02',\n",
        "'HLA-A*31:01',\n",
        "'HLA-A*32:01',\n",
        "'HLA-A*33:01',\n",
        "'HLA-A*68:01',\n",
        "'HLA-A*68:02',\n",
        "'HLA-B*07:02',\n",
        "'HLA-B*08:01',\n",
        "'HLA-B*08:01',\n",
        "'HLA-B*15:01',\n",
        "'HLA-B*35:01',\n",
        "'HLA-B*40:01',\n",
        "'HLA-B*44:02',\n",
        "'HLA-B*44:03',\n",
        "'HLA-B*51:01',\n",
        "'HLA-B*53:01',\n",
        "'HLA-B*57:01',\n",
        "'HLA-B*58:01' ],\n",
        " # [\"A0201\", \"A0301\", \"B0702\", \"C0802\"],\n",
        "}"
      ],
      "metadata": {
        "id": "zwPHH09RcgCt"
      },
      "execution_count": null,
      "outputs": []
    },
    {
      "cell_type": "code",
      "execution_count": null,
      "metadata": {
        "colab": {
          "base_uri": "https://localhost:8080/"
        },
        "id": "tYRpxn5YRGBk",
        "outputId": "8853b878-35d8-4baf-c1fd-09a36d61fca3"
      },
      "outputs": [
        {
          "output_type": "stream",
          "name": "stdout",
          "text": [
            "processing colab_Sig7a_10k_104.csv\n",
            "Predicting processing.\n"
          ]
        },
        {
          "output_type": "stream",
          "name": "stderr",
          "text": [
            "100%|██████████| 11/11 [00:53<00:00,  4.88s/it]\n"
          ]
        },
        {
          "output_type": "stream",
          "name": "stdout",
          "text": [
            "Predicting affinities.\n"
          ]
        },
        {
          "output_type": "stream",
          "name": "stderr",
          "text": [
            "100%|██████████| 27/27 [04:07<00:00,  9.17s/it]\n"
          ]
        },
        {
          "output_type": "stream",
          "name": "stdout",
          "text": [
            "processing colab_Sig7a_10k_105.csv\n",
            "Predicting processing.\n"
          ]
        },
        {
          "output_type": "stream",
          "name": "stderr",
          "text": [
            "100%|██████████| 11/11 [00:44<00:00,  4.03s/it]\n"
          ]
        },
        {
          "output_type": "stream",
          "name": "stdout",
          "text": [
            "Predicting affinities.\n"
          ]
        },
        {
          "output_type": "stream",
          "name": "stderr",
          "text": [
            "100%|██████████| 27/27 [03:42<00:00,  8.25s/it]\n"
          ]
        },
        {
          "output_type": "stream",
          "name": "stdout",
          "text": [
            "processing colab_Sig7a_10k_106.csv\n",
            "Predicting processing.\n"
          ]
        },
        {
          "output_type": "stream",
          "name": "stderr",
          "text": [
            "100%|██████████| 11/11 [00:43<00:00,  3.98s/it]\n"
          ]
        },
        {
          "output_type": "stream",
          "name": "stdout",
          "text": [
            "Predicting affinities.\n"
          ]
        },
        {
          "output_type": "stream",
          "name": "stderr",
          "text": [
            "100%|██████████| 27/27 [03:43<00:00,  8.27s/it]\n"
          ]
        },
        {
          "output_type": "stream",
          "name": "stdout",
          "text": [
            "processing colab_Sig7a_10k_107.csv\n",
            "Predicting processing.\n"
          ]
        },
        {
          "output_type": "stream",
          "name": "stderr",
          "text": [
            "100%|██████████| 11/11 [00:44<00:00,  4.04s/it]\n"
          ]
        },
        {
          "output_type": "stream",
          "name": "stdout",
          "text": [
            "Predicting affinities.\n"
          ]
        },
        {
          "output_type": "stream",
          "name": "stderr",
          "text": [
            "100%|██████████| 27/27 [03:43<00:00,  8.29s/it]\n"
          ]
        },
        {
          "output_type": "stream",
          "name": "stdout",
          "text": [
            "processing colab_Sig7a_10k_108.csv\n",
            "Predicting processing.\n"
          ]
        },
        {
          "output_type": "stream",
          "name": "stderr",
          "text": [
            "100%|██████████| 11/11 [00:44<00:00,  4.00s/it]\n"
          ]
        },
        {
          "output_type": "stream",
          "name": "stdout",
          "text": [
            "Predicting affinities.\n"
          ]
        },
        {
          "output_type": "stream",
          "name": "stderr",
          "text": [
            "100%|██████████| 27/27 [03:51<00:00,  8.58s/it]\n"
          ]
        },
        {
          "output_type": "stream",
          "name": "stdout",
          "text": [
            "processing colab_Sig7a_10k_109.csv\n",
            "Predicting processing.\n"
          ]
        },
        {
          "output_type": "stream",
          "name": "stderr",
          "text": [
            "100%|██████████| 11/11 [00:42<00:00,  3.85s/it]\n"
          ]
        },
        {
          "output_type": "stream",
          "name": "stdout",
          "text": [
            "Predicting affinities.\n"
          ]
        },
        {
          "output_type": "stream",
          "name": "stderr",
          "text": [
            "100%|██████████| 27/27 [03:51<00:00,  8.58s/it]\n"
          ]
        },
        {
          "output_type": "stream",
          "name": "stdout",
          "text": [
            "processing colab_Sig7a_10k_110.csv\n",
            "Predicting processing.\n"
          ]
        },
        {
          "output_type": "stream",
          "name": "stderr",
          "text": [
            "100%|██████████| 11/11 [00:44<00:00,  4.01s/it]\n"
          ]
        },
        {
          "output_type": "stream",
          "name": "stdout",
          "text": [
            "Predicting affinities.\n"
          ]
        },
        {
          "output_type": "stream",
          "name": "stderr",
          "text": [
            "100%|██████████| 27/27 [03:38<00:00,  8.08s/it]\n"
          ]
        },
        {
          "output_type": "stream",
          "name": "stdout",
          "text": [
            "processing colab_Sig7a_10k_111.csv\n",
            "Predicting processing.\n"
          ]
        },
        {
          "output_type": "stream",
          "name": "stderr",
          "text": [
            "100%|██████████| 11/11 [00:44<00:00,  4.01s/it]\n"
          ]
        },
        {
          "output_type": "stream",
          "name": "stdout",
          "text": [
            "Predicting affinities.\n"
          ]
        },
        {
          "output_type": "stream",
          "name": "stderr",
          "text": [
            "100%|██████████| 27/27 [03:39<00:00,  8.11s/it]\n"
          ]
        },
        {
          "output_type": "stream",
          "name": "stdout",
          "text": [
            "processing colab_Sig7a_10k_112.csv\n",
            "Predicting processing.\n"
          ]
        },
        {
          "output_type": "stream",
          "name": "stderr",
          "text": [
            "100%|██████████| 11/11 [00:42<00:00,  3.87s/it]\n"
          ]
        },
        {
          "output_type": "stream",
          "name": "stdout",
          "text": [
            "Predicting affinities.\n"
          ]
        },
        {
          "output_type": "stream",
          "name": "stderr",
          "text": [
            "100%|██████████| 27/27 [03:43<00:00,  8.29s/it]\n"
          ]
        },
        {
          "output_type": "stream",
          "name": "stdout",
          "text": [
            "processing colab_Sig7a_10k_113.csv\n",
            "Predicting processing.\n"
          ]
        },
        {
          "output_type": "stream",
          "name": "stderr",
          "text": [
            "100%|██████████| 11/11 [00:43<00:00,  3.99s/it]\n"
          ]
        },
        {
          "output_type": "stream",
          "name": "stdout",
          "text": [
            "Predicting affinities.\n"
          ]
        },
        {
          "output_type": "stream",
          "name": "stderr",
          "text": [
            "100%|██████████| 27/27 [03:47<00:00,  8.44s/it]\n"
          ]
        },
        {
          "output_type": "stream",
          "name": "stdout",
          "text": [
            "processing colab_Sig7a_10k_114.csv\n",
            "Predicting processing.\n"
          ]
        },
        {
          "output_type": "stream",
          "name": "stderr",
          "text": [
            "100%|██████████| 11/11 [00:43<00:00,  3.95s/it]\n"
          ]
        },
        {
          "output_type": "stream",
          "name": "stdout",
          "text": [
            "Predicting affinities.\n"
          ]
        },
        {
          "output_type": "stream",
          "name": "stderr",
          "text": [
            "100%|██████████| 27/27 [03:45<00:00,  8.36s/it]\n"
          ]
        },
        {
          "output_type": "stream",
          "name": "stdout",
          "text": [
            "processing colab_Sig7a_10k_115.csv\n",
            "Predicting processing.\n"
          ]
        },
        {
          "output_type": "stream",
          "name": "stderr",
          "text": [
            "100%|██████████| 11/11 [00:43<00:00,  3.97s/it]\n"
          ]
        },
        {
          "output_type": "stream",
          "name": "stdout",
          "text": [
            "Predicting affinities.\n"
          ]
        },
        {
          "output_type": "stream",
          "name": "stderr",
          "text": [
            "100%|██████████| 27/27 [03:49<00:00,  8.51s/it]\n"
          ]
        },
        {
          "output_type": "stream",
          "name": "stdout",
          "text": [
            "processing colab_Sig7a_10k_116.csv\n",
            "Predicting processing.\n"
          ]
        },
        {
          "output_type": "stream",
          "name": "stderr",
          "text": [
            "100%|██████████| 11/11 [00:43<00:00,  3.92s/it]\n"
          ]
        },
        {
          "output_type": "stream",
          "name": "stdout",
          "text": [
            "Predicting affinities.\n"
          ]
        },
        {
          "output_type": "stream",
          "name": "stderr",
          "text": [
            "100%|██████████| 27/27 [03:46<00:00,  8.38s/it]\n"
          ]
        },
        {
          "output_type": "stream",
          "name": "stdout",
          "text": [
            "processing colab_Sig7a_10k_117.csv\n",
            "Predicting processing.\n"
          ]
        },
        {
          "output_type": "stream",
          "name": "stderr",
          "text": [
            "100%|██████████| 11/11 [00:44<00:00,  4.03s/it]\n"
          ]
        },
        {
          "output_type": "stream",
          "name": "stdout",
          "text": [
            "Predicting affinities.\n"
          ]
        },
        {
          "output_type": "stream",
          "name": "stderr",
          "text": [
            "100%|██████████| 27/27 [03:47<00:00,  8.42s/it]\n"
          ]
        },
        {
          "output_type": "stream",
          "name": "stdout",
          "text": [
            "processing colab_Sig7a_10k_118.csv\n",
            "Predicting processing.\n"
          ]
        },
        {
          "output_type": "stream",
          "name": "stderr",
          "text": [
            "100%|██████████| 11/11 [00:42<00:00,  3.89s/it]\n"
          ]
        },
        {
          "output_type": "stream",
          "name": "stdout",
          "text": [
            "Predicting affinities.\n"
          ]
        },
        {
          "output_type": "stream",
          "name": "stderr",
          "text": [
            "100%|██████████| 27/27 [03:51<00:00,  8.58s/it]\n"
          ]
        },
        {
          "output_type": "stream",
          "name": "stdout",
          "text": [
            "processing colab_Sig7a_10k_119.csv\n",
            "Predicting processing.\n"
          ]
        },
        {
          "output_type": "stream",
          "name": "stderr",
          "text": [
            "100%|██████████| 11/11 [00:45<00:00,  4.09s/it]\n"
          ]
        },
        {
          "output_type": "stream",
          "name": "stdout",
          "text": [
            "Predicting affinities.\n"
          ]
        },
        {
          "output_type": "stream",
          "name": "stderr",
          "text": [
            "100%|██████████| 27/27 [03:48<00:00,  8.45s/it]\n"
          ]
        },
        {
          "output_type": "stream",
          "name": "stdout",
          "text": [
            "processing colab_Sig7a_10k_120.csv\n",
            "Predicting processing.\n"
          ]
        },
        {
          "output_type": "stream",
          "name": "stderr",
          "text": [
            "100%|██████████| 11/11 [00:45<00:00,  4.11s/it]\n"
          ]
        },
        {
          "output_type": "stream",
          "name": "stdout",
          "text": [
            "Predicting affinities.\n"
          ]
        },
        {
          "output_type": "stream",
          "name": "stderr",
          "text": [
            "100%|██████████| 27/27 [03:48<00:00,  8.45s/it]\n"
          ]
        },
        {
          "output_type": "stream",
          "name": "stdout",
          "text": [
            "processing colab_Sig7a_10k_121.csv\n",
            "Predicting processing.\n"
          ]
        },
        {
          "output_type": "stream",
          "name": "stderr",
          "text": [
            "100%|██████████| 11/11 [00:44<00:00,  4.06s/it]\n"
          ]
        },
        {
          "output_type": "stream",
          "name": "stdout",
          "text": [
            "Predicting affinities.\n"
          ]
        },
        {
          "output_type": "stream",
          "name": "stderr",
          "text": [
            "100%|██████████| 27/27 [03:47<00:00,  8.44s/it]\n"
          ]
        },
        {
          "output_type": "stream",
          "name": "stdout",
          "text": [
            "processing colab_Sig7a_10k_122.csv\n",
            "Predicting processing.\n"
          ]
        },
        {
          "output_type": "stream",
          "name": "stderr",
          "text": [
            "100%|██████████| 11/11 [00:43<00:00,  3.94s/it]\n"
          ]
        },
        {
          "output_type": "stream",
          "name": "stdout",
          "text": [
            "Predicting affinities.\n"
          ]
        },
        {
          "output_type": "stream",
          "name": "stderr",
          "text": [
            "100%|██████████| 27/27 [03:49<00:00,  8.51s/it]\n"
          ]
        },
        {
          "output_type": "stream",
          "name": "stdout",
          "text": [
            "processing colab_Sig7a_10k_123.csv\n",
            "Predicting processing.\n"
          ]
        },
        {
          "output_type": "stream",
          "name": "stderr",
          "text": [
            "100%|██████████| 11/11 [00:45<00:00,  4.11s/it]\n"
          ]
        },
        {
          "output_type": "stream",
          "name": "stdout",
          "text": [
            "Predicting affinities.\n"
          ]
        },
        {
          "output_type": "stream",
          "name": "stderr",
          "text": [
            "100%|██████████| 27/27 [03:47<00:00,  8.42s/it]\n"
          ]
        },
        {
          "output_type": "stream",
          "name": "stdout",
          "text": [
            "processing colab_Sig7a_10k_124.csv\n",
            "Predicting processing.\n"
          ]
        },
        {
          "output_type": "stream",
          "name": "stderr",
          "text": [
            "100%|██████████| 11/11 [00:45<00:00,  4.14s/it]\n"
          ]
        },
        {
          "output_type": "stream",
          "name": "stdout",
          "text": [
            "Predicting affinities.\n"
          ]
        },
        {
          "output_type": "stream",
          "name": "stderr",
          "text": [
            "100%|██████████| 27/27 [03:47<00:00,  8.41s/it]\n"
          ]
        },
        {
          "output_type": "stream",
          "name": "stdout",
          "text": [
            "processing colab_Sig7a_10k_125.csv\n",
            "Predicting processing.\n"
          ]
        },
        {
          "output_type": "stream",
          "name": "stderr",
          "text": [
            "100%|██████████| 11/11 [00:44<00:00,  4.05s/it]\n"
          ]
        },
        {
          "output_type": "stream",
          "name": "stdout",
          "text": [
            "Predicting affinities.\n"
          ]
        },
        {
          "output_type": "stream",
          "name": "stderr",
          "text": [
            "\r  0%|          | 0/27 [00:00<?, ?it/s]WARNING:root:76 peptides have nonstandard amino acids: ['VCIVTNVASQU' 'CIVTNVASQU' 'CIVTNVASQUG' 'IVTNVASQU' 'IVTNVASQUG'\n",
            " 'IVTNVASQUGK' 'VTNVASQU' 'VTNVASQUG' 'VTNVASQUGK' 'VTNVASQUGKT'\n",
            " 'TNVASQUG' 'TNVASQUGK' 'TNVASQUGKT' 'TNVASQUGKTE' 'NVASQUGK' 'NVASQUGKT'\n",
            " 'NVASQUGKTE' 'NVASQUGKTEV' 'VASQUGKT' 'VASQUGKTE' 'VASQUGKTEV'\n",
            " 'VASQUGKTEVN' 'ASQUGKTE' 'ASQUGKTEV' 'ASQUGKTEVN' 'ASQUGKTEVNY'\n",
            " 'SQUGKTEV' 'SQUGKTEVN' 'SQUGKTEVNY' 'SQUGKTEVNYT' 'QUGKTEVN' 'QUGKTEVNY'\n",
            " 'QUGKTEVNYT' 'QUGKTEVNYTQ' 'UGKTEVNY' 'UGKTEVNYT' 'UGKTEVNYTQ'\n",
            " 'UGKTEVNYTQL' 'VCIVTNVAFQU' 'CIVTNVAFQU' 'CIVTNVAFQUG' 'IVTNVAFQU'\n",
            " 'IVTNVAFQUG' 'IVTNVAFQUGK' 'VTNVAFQU' 'VTNVAFQUG' 'VTNVAFQUGK'\n",
            " 'VTNVAFQUGKT' 'TNVAFQUG' 'TNVAFQUGK' 'TNVAFQUGKT' 'TNVAFQUGKTE'\n",
            " 'NVAFQUGK' 'NVAFQUGKT' 'NVAFQUGKTE' 'NVAFQUGKTEV' 'VAFQUGKT' 'VAFQUGKTE'\n",
            " 'VAFQUGKTEV' 'VAFQUGKTEVN' 'AFQUGKTE' 'AFQUGKTEV' 'AFQUGKTEVN'\n",
            " 'AFQUGKTEVNY' 'FQUGKTEV' 'FQUGKTEVN' 'FQUGKTEVNY' 'FQUGKTEVNYT']\n",
            "  0%|          | 0/27 [00:00<?, ?it/s]\n"
          ]
        },
        {
          "output_type": "error",
          "ename": "ValueError",
          "evalue": "ignored",
          "traceback": [
            "\u001b[0;31m---------------------------------------------------------------------------\u001b[0m",
            "\u001b[0;31mValueError\u001b[0m                                Traceback (most recent call last)",
            "\u001b[0;32m<ipython-input-14-65a35aea6633>\u001b[0m in \u001b[0;36m<module>\u001b[0;34m\u001b[0m\n\u001b[1;32m     19\u001b[0m     \u001b[0;31m# Predict across protein sequences and return peptides with predicted affinity\u001b[0m\u001b[0;34m\u001b[0m\u001b[0;34m\u001b[0m\u001b[0;34m\u001b[0m\u001b[0m\n\u001b[1;32m     20\u001b[0m     \u001b[0;31m# less than 100 nM.\u001b[0m\u001b[0;34m\u001b[0m\u001b[0;34m\u001b[0m\u001b[0;34m\u001b[0m\u001b[0m\n\u001b[0;32m---> 21\u001b[0;31m     results2 = predictor.predict_sequences(\n\u001b[0m\u001b[1;32m     22\u001b[0m         \u001b[0msequences\u001b[0m\u001b[0;34m=\u001b[0m\u001b[0mpeptides\u001b[0m\u001b[0;34m.\u001b[0m\u001b[0msequence\u001b[0m\u001b[0;34m.\u001b[0m\u001b[0mto_dict\u001b[0m\u001b[0;34m(\u001b[0m\u001b[0;34m)\u001b[0m\u001b[0;34m,\u001b[0m\u001b[0;34m\u001b[0m\u001b[0;34m\u001b[0m\u001b[0m\n\u001b[1;32m     23\u001b[0m         \u001b[0malleles\u001b[0m\u001b[0;34m=\u001b[0m\u001b[0malleles\u001b[0m\u001b[0;34m,\u001b[0m\u001b[0;34m\u001b[0m\u001b[0;34m\u001b[0m\u001b[0m\n",
            "\u001b[0;32m/usr/local/lib/python3.8/dist-packages/mhcflurry/class1_presentation_predictor.py\u001b[0m in \u001b[0;36mpredict_sequences\u001b[0;34m(self, sequences, alleles, result, comparison_quantity, filter_value, peptide_lengths, use_flanks, include_affinity_percentile, verbose, throw)\u001b[0m\n\u001b[1;32m    800\u001b[0m                             sequence[peptide_start + peptide_length : c_flank_end])\n\u001b[1;32m    801\u001b[0m \u001b[0;34m\u001b[0m\u001b[0m\n\u001b[0;32m--> 802\u001b[0;31m         result_df = self.predict(\n\u001b[0m\u001b[1;32m    803\u001b[0m             \u001b[0mpeptides\u001b[0m\u001b[0;34m=\u001b[0m\u001b[0mpeptides\u001b[0m\u001b[0;34m,\u001b[0m\u001b[0;34m\u001b[0m\u001b[0;34m\u001b[0m\u001b[0m\n\u001b[1;32m    804\u001b[0m             \u001b[0malleles\u001b[0m\u001b[0;34m=\u001b[0m\u001b[0malleles\u001b[0m\u001b[0;34m,\u001b[0m\u001b[0;34m\u001b[0m\u001b[0;34m\u001b[0m\u001b[0m\n",
            "\u001b[0;32m/usr/local/lib/python3.8/dist-packages/mhcflurry/class1_presentation_predictor.py\u001b[0m in \u001b[0;36mpredict\u001b[0;34m(self, peptides, alleles, sample_names, n_flanks, c_flanks, include_affinity_percentile, verbose, throw)\u001b[0m\n\u001b[1;32m    541\u001b[0m \u001b[0;34m\u001b[0m\u001b[0m\n\u001b[1;32m    542\u001b[0m         \u001b[0;32mif\u001b[0m \u001b[0malleles\u001b[0m\u001b[0;34m:\u001b[0m\u001b[0;34m\u001b[0m\u001b[0;34m\u001b[0m\u001b[0m\n\u001b[0;32m--> 543\u001b[0;31m             df = self.predict_affinity(\n\u001b[0m\u001b[1;32m    544\u001b[0m                 \u001b[0mpeptides\u001b[0m\u001b[0;34m=\u001b[0m\u001b[0mpeptides\u001b[0m\u001b[0;34m,\u001b[0m\u001b[0;34m\u001b[0m\u001b[0;34m\u001b[0m\u001b[0m\n\u001b[1;32m    545\u001b[0m                 \u001b[0malleles\u001b[0m\u001b[0;34m=\u001b[0m\u001b[0malleles\u001b[0m\u001b[0;34m,\u001b[0m\u001b[0;34m\u001b[0m\u001b[0;34m\u001b[0m\u001b[0m\n",
            "\u001b[0;32m/usr/local/lib/python3.8/dist-packages/mhcflurry/class1_presentation_predictor.py\u001b[0m in \u001b[0;36mpredict_affinity\u001b[0;34m(self, peptides, alleles, sample_names, include_affinity_percentile, verbose, throw)\u001b[0m\n\u001b[1;32m    200\u001b[0m             \u001b[0mpredictions_df\u001b[0m \u001b[0;34m=\u001b[0m \u001b[0mpandas\u001b[0m\u001b[0;34m.\u001b[0m\u001b[0mDataFrame\u001b[0m\u001b[0;34m(\u001b[0m\u001b[0mindex\u001b[0m\u001b[0;34m=\u001b[0m\u001b[0mdf\u001b[0m\u001b[0;34m.\u001b[0m\u001b[0mindex\u001b[0m\u001b[0;34m)\u001b[0m\u001b[0;34m\u001b[0m\u001b[0;34m\u001b[0m\u001b[0m\n\u001b[1;32m    201\u001b[0m             \u001b[0;32mfor\u001b[0m \u001b[0mallele\u001b[0m \u001b[0;32min\u001b[0m \u001b[0miterator\u001b[0m\u001b[0;34m:\u001b[0m\u001b[0;34m\u001b[0m\u001b[0;34m\u001b[0m\u001b[0m\n\u001b[0;32m--> 202\u001b[0;31m                 predictions_df[allele] = self.affinity_predictor.predict(\n\u001b[0m\u001b[1;32m    203\u001b[0m                     \u001b[0mpeptides\u001b[0m\u001b[0;34m=\u001b[0m\u001b[0mpeptides\u001b[0m\u001b[0;34m,\u001b[0m\u001b[0;34m\u001b[0m\u001b[0;34m\u001b[0m\u001b[0m\n\u001b[1;32m    204\u001b[0m                     \u001b[0mallele\u001b[0m\u001b[0;34m=\u001b[0m\u001b[0mallele\u001b[0m\u001b[0;34m,\u001b[0m\u001b[0;34m\u001b[0m\u001b[0;34m\u001b[0m\u001b[0m\n",
            "\u001b[0;32m/usr/local/lib/python3.8/dist-packages/mhcflurry/class1_affinity_predictor.py\u001b[0m in \u001b[0;36mpredict\u001b[0;34m(self, peptides, alleles, allele, throw, centrality_measure, model_kwargs)\u001b[0m\n\u001b[1;32m   1083\u001b[0m         \u001b[0mnumpy\u001b[0m\u001b[0;34m.\u001b[0m\u001b[0marray\u001b[0m \u001b[0mof\u001b[0m \u001b[0mpredictions\u001b[0m\u001b[0;34m\u001b[0m\u001b[0;34m\u001b[0m\u001b[0m\n\u001b[1;32m   1084\u001b[0m         \"\"\"\n\u001b[0;32m-> 1085\u001b[0;31m         df = self.predict_to_dataframe(\n\u001b[0m\u001b[1;32m   1086\u001b[0m             \u001b[0mpeptides\u001b[0m\u001b[0;34m=\u001b[0m\u001b[0mpeptides\u001b[0m\u001b[0;34m,\u001b[0m\u001b[0;34m\u001b[0m\u001b[0;34m\u001b[0m\u001b[0m\n\u001b[1;32m   1087\u001b[0m             \u001b[0malleles\u001b[0m\u001b[0;34m=\u001b[0m\u001b[0malleles\u001b[0m\u001b[0;34m,\u001b[0m\u001b[0;34m\u001b[0m\u001b[0;34m\u001b[0m\u001b[0m\n",
            "\u001b[0;32m/usr/local/lib/python3.8/dist-packages/mhcflurry/class1_affinity_predictor.py\u001b[0m in \u001b[0;36mpredict_to_dataframe\u001b[0;34m(self, peptides, alleles, allele, throw, include_individual_model_predictions, include_percentile_ranks, include_confidence_intervals, centrality_measure, model_kwargs)\u001b[0m\n\u001b[1;32m   1223\u001b[0m             \u001b[0mlogging\u001b[0m\u001b[0;34m.\u001b[0m\u001b[0mwarning\u001b[0m\u001b[0;34m(\u001b[0m\u001b[0mmsg\u001b[0m\u001b[0;34m)\u001b[0m\u001b[0;34m\u001b[0m\u001b[0;34m\u001b[0m\u001b[0m\n\u001b[1;32m   1224\u001b[0m             \u001b[0;32mif\u001b[0m \u001b[0mthrow\u001b[0m\u001b[0;34m:\u001b[0m\u001b[0;34m\u001b[0m\u001b[0;34m\u001b[0m\u001b[0m\n\u001b[0;32m-> 1225\u001b[0;31m                 \u001b[0;32mraise\u001b[0m \u001b[0mValueError\u001b[0m\u001b[0;34m(\u001b[0m\u001b[0mmsg\u001b[0m\u001b[0;34m)\u001b[0m\u001b[0;34m\u001b[0m\u001b[0;34m\u001b[0m\u001b[0m\n\u001b[0m\u001b[1;32m   1226\u001b[0m \u001b[0;34m\u001b[0m\u001b[0m\n\u001b[1;32m   1227\u001b[0m         num_pan_models = (\n",
            "\u001b[0;31mValueError\u001b[0m: 76 peptides have nonstandard amino acids: ['VCIVTNVASQU' 'CIVTNVASQU' 'CIVTNVASQUG' 'IVTNVASQU' 'IVTNVASQUG'\n 'IVTNVASQUGK' 'VTNVASQU' 'VTNVASQUG' 'VTNVASQUGK' 'VTNVASQUGKT'\n 'TNVASQUG' 'TNVASQUGK' 'TNVASQUGKT' 'TNVASQUGKTE' 'NVASQUGK' 'NVASQUGKT'\n 'NVASQUGKTE' 'NVASQUGKTEV' 'VASQUGKT' 'VASQUGKTE' 'VASQUGKTEV'\n 'VASQUGKTEVN' 'ASQUGKTE' 'ASQUGKTEV' 'ASQUGKTEVN' 'ASQUGKTEVNY'\n 'SQUGKTEV' 'SQUGKTEVN' 'SQUGKTEVNY' 'SQUGKTEVNYT' 'QUGKTEVN' 'QUGKTEVNY'\n 'QUGKTEVNYT' 'QUGKTEVNYTQ' 'UGKTEVNY' 'UGKTEVNYT' 'UGKTEVNYTQ'\n 'UGKTEVNYTQL' 'VCIVTNVAFQU' 'CIVTNVAFQU' 'CIVTNVAFQUG' 'IVTNVAFQU'\n 'IVTNVAFQUG' 'IVTNVAFQUGK' 'VTNVAFQU' 'VTNVAFQUG' 'VTNVAFQUGK'\n 'VTNVAFQUGKT' 'TNVAFQUG' 'TNVAFQUGK' 'TNVAFQUGKT' 'TNVAFQUGKTE'\n 'NVAFQUGK' 'NVAFQUGKT' 'NVAFQUGKTE' 'NVAFQUGKTEV' 'VAFQUGKT' 'VAFQUGKTE'\n 'VAFQUGKTEV' 'VAFQUGKTEVN' 'AFQUGKTE' 'AFQUGKTEV' 'AFQUGKTEVN'\n 'AFQUGKTEVNY' 'FQUGKTEV' 'FQUGKTEVN' 'FQUGKTEVNY' 'FQUGKTEVNYT']"
          ]
        }
      ],
      "source": [
        "# import io\n",
        "import mhcflurry.fasta\n",
        "\n",
        "for suffix in range(104,417):\n",
        "\n",
        "    # with io.open(\"file_\" + str(i) + \".dat\", 'w', encoding='utf-8') as f:\n",
        "\n",
        "    srcFile = \"/content/drive/MyDrive/vaccinePeptideExomeScan/split/exomeScanPeptides_\" + str(suffix) + \".fasta\"\n",
        "    \n",
        "    peptides = mhcflurry.fasta.read_fasta_to_dataframe(srcFile).set_index(\"sequence_id\")\n",
        "\n",
        "    # resultFile = \"/content/drive/MyDrive/vaccinePeptideExomeScan/results/colab_10k_\" + str(suffix) + \".csv\"\n",
        "    resultFile = \"colab_Sig7a_10k_\" + str(suffix) + \".csv\"\n",
        "\n",
        "    print(\"processing \" + resultFile)\n",
        "\n",
        "    driveResultFile = \"/content/drive/MyDrive/vaccinePeptideExomeScan/results/\" + resultFile\n",
        "\n",
        "    # Predict across protein sequences and return peptides with predicted affinity\n",
        "    # less than 100 nM.\n",
        "    results2 = predictor.predict_sequences(\n",
        "        sequences=peptides.sequence.to_dict(),\n",
        "        alleles=alleles,\n",
        "        result=\"filtered\",\n",
        "        comparison_quantity=\"affinity\",\n",
        "        filter_value=100)\n",
        "    \n",
        "    results2.to_csv(driveResultFile)\n",
        "    # files.download(results2.to_csv())\n"
      ]
    },
    {
      "cell_type": "code",
      "source": [
        "# Download results\n",
        "#results2.to_csv('mhcflurry-colab-10k-file1.csv')\n",
        "#files.download('mhcflurry-colab-10k-file1.csv')"
      ],
      "metadata": {
        "colab": {
          "base_uri": "https://localhost:8080/",
          "height": 17
        },
        "id": "CASrg0X5dgon",
        "outputId": "45c400fc-8ecc-42a6-f08e-8021e4c9c54e"
      },
      "execution_count": null,
      "outputs": [
        {
          "output_type": "display_data",
          "data": {
            "text/plain": [
              "<IPython.core.display.Javascript object>"
            ],
            "application/javascript": [
              "\n",
              "    async function download(id, filename, size) {\n",
              "      if (!google.colab.kernel.accessAllowed) {\n",
              "        return;\n",
              "      }\n",
              "      const div = document.createElement('div');\n",
              "      const label = document.createElement('label');\n",
              "      label.textContent = `Downloading \"${filename}\": `;\n",
              "      div.appendChild(label);\n",
              "      const progress = document.createElement('progress');\n",
              "      progress.max = size;\n",
              "      div.appendChild(progress);\n",
              "      document.body.appendChild(div);\n",
              "\n",
              "      const buffers = [];\n",
              "      let downloaded = 0;\n",
              "\n",
              "      const channel = await google.colab.kernel.comms.open(id);\n",
              "      // Send a message to notify the kernel that we're ready.\n",
              "      channel.send({})\n",
              "\n",
              "      for await (const message of channel.messages) {\n",
              "        // Send a message to notify the kernel that we're ready.\n",
              "        channel.send({})\n",
              "        if (message.buffers) {\n",
              "          for (const buffer of message.buffers) {\n",
              "            buffers.push(buffer);\n",
              "            downloaded += buffer.byteLength;\n",
              "            progress.value = downloaded;\n",
              "          }\n",
              "        }\n",
              "      }\n",
              "      const blob = new Blob(buffers, {type: 'application/binary'});\n",
              "      const a = document.createElement('a');\n",
              "      a.href = window.URL.createObjectURL(blob);\n",
              "      a.download = filename;\n",
              "      div.appendChild(a);\n",
              "      a.click();\n",
              "      div.remove();\n",
              "    }\n",
              "  "
            ]
          },
          "metadata": {}
        },
        {
          "output_type": "display_data",
          "data": {
            "text/plain": [
              "<IPython.core.display.Javascript object>"
            ],
            "application/javascript": [
              "download(\"download_d3f9abda-3da9-4f86-aaa5-fecda7f7bc91\", \"mhcflurry-colab-10k-file1.csv\", 30348514)"
            ]
          },
          "metadata": {}
        }
      ]
    }
  ],
  "metadata": {
    "kernelspec": {
      "display_name": "Python 3",
      "language": "python",
      "name": "python3"
    },
    "language_info": {
      "codemirror_mode": {
        "name": "ipython",
        "version": 3
      },
      "file_extension": ".py",
      "mimetype": "text/x-python",
      "name": "python",
      "nbconvert_exporter": "python",
      "pygments_lexer": "ipython3",
      "version": "3.6.1"
    },
    "colab": {
      "provenance": [],
      "machine_shape": "hm",
      "include_colab_link": true
    },
    "gpuClass": "premium"
  },
  "nbformat": 4,
  "nbformat_minor": 0
}